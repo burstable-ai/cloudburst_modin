{
 "cells": [
  {
   "cell_type": "markdown",
   "id": "3eeacce1-48a9-497f-9310-2f125682c909",
   "metadata": {},
   "source": [
    "https://towardsdatascience.com/speed-up-your-pandas-workflow-with-modin-9a61acff0076\n",
    "\n",
    "Soner Yıldırım\n",
    "Mar 10\n",
    "Speed Up Your Pandas Workflow with Modin\n",
    "Make use of the power of distributed computation"
   ]
  },
  {
   "cell_type": "markdown",
   "id": "753cb561-e823-4cf3-97ea-197055faae89",
   "metadata": {},
   "source": [
    "install dependencies"
   ]
  },
  {
   "cell_type": "code",
   "execution_count": null,
   "id": "5c771d7b-4df2-40ef-a4f2-3e263288ffa1",
   "metadata": {},
   "outputs": [],
   "source": [
    "!pip install -r requirements.txt"
   ]
  },
  {
   "cell_type": "markdown",
   "id": "46c307e0-ebce-42ff-9167-71f68ae9bfac",
   "metadata": {},
   "source": [
    "Import what we need"
   ]
  },
  {
   "cell_type": "code",
   "execution_count": null,
   "id": "03ad6aab-73be-479f-8e5f-548def5961e3",
   "metadata": {},
   "outputs": [],
   "source": [
    "import numpy as np\n",
    "import pandas as pd\n",
    "import modin.pandas as pdm\n",
    "import ray\n",
    "ray.init(ignore_reinit_error=True)"
   ]
  },
  {
   "cell_type": "markdown",
   "id": "d5afc45e-b795-4411-8787-697da4e25bf8",
   "metadata": {
    "tags": []
   },
   "source": [
    "We will first create a sample DataFrame with 1 million rows and save it in csv format. Then, we will perform the common operations with both Pandas and Modin."
   ]
  },
  {
   "cell_type": "code",
   "execution_count": null,
   "id": "09bf86d7-d57e-4345-868c-97b563431896",
   "metadata": {},
   "outputs": [],
   "source": [
    "df = pd.DataFrame(np.random.randint(1,100,size=(5*10**6,50)))\n",
    "df = df.add_prefix(\"column_\")\n",
    "df[\"group\"] = [\"A\",\"B\",\"C\",\"D\"]*250000\n",
    "df.shape"
   ]
  },
  {
   "cell_type": "markdown",
   "id": "9498fc59-2602-493e-bb0b-15b1e9c4ba43",
   "metadata": {},
   "source": [
    "The DataFrame contains 10 million rows and 50 columns with integer values between 1 and 100. I have also added a categorical column to be able to test the groupby function.\n",
    "\n",
    "We can now save this DataFrame as a csv file."
   ]
  },
  {
   "cell_type": "code",
   "execution_count": null,
   "id": "c8a25875-5b64-43e4-a975-00c5e82793d8",
   "metadata": {},
   "outputs": [],
   "source": [
    "df.to_csv(\"large_dataset.csv\",index=False)"
   ]
  },
  {
   "cell_type": "markdown",
   "id": "5b585e38-eeb0-46b0-9a93-24824999ed88",
   "metadata": {},
   "source": [
    "The size of the csv file is 1.47 GB.\n",
    "\n",
    "We now have our “large” dataset. It is time to do operations and time them. I have a MacBook Pro 2000 with an M1 chip. The times you measure on your machine might differ slightly but you will see an improvement with Modin compared to Pandas.\n",
    "\n",
    "The first operation we will do is read the csv file."
   ]
  },
  {
   "cell_type": "code",
   "execution_count": null,
   "id": "362098fb-89bb-4f92-ba9f-4b3eda721dfa",
   "metadata": {},
   "outputs": [],
   "source": [
    "%%time\n",
    "df_pandas = pd.read_csv(\"large_dataset.csv\")"
   ]
  },
  {
   "cell_type": "markdown",
   "id": "287909eb-e926-4b33-9d1b-2255723d50a2",
   "metadata": {},
   "source": [
    "It took 26 seconds to read the file with Pandas."
   ]
  },
  {
   "cell_type": "code",
   "execution_count": null,
   "id": "d4af1021-c73e-4014-9124-f9b7d937ae1d",
   "metadata": {},
   "outputs": [],
   "source": [
    "%%time\n",
    "df_modin = pdm.read_csv(\"large_dataset.csv\")"
   ]
  },
  {
   "cell_type": "markdown",
   "id": "a9f393ff-ff96-41d9-8211-9f2ff43590e9",
   "metadata": {},
   "source": [
    "With Modin, we are able to read the same file in 6.66 seconds which means a 74% improvement."
   ]
  },
  {
   "cell_type": "markdown",
   "id": "e5f15ae4-b89e-41e9-852e-dea464bda40e",
   "metadata": {},
   "source": [
    "Although we can apply the same operations using the same syntax, the types of “df_pandas” and “df_modin” are different."
   ]
  },
  {
   "cell_type": "code",
   "execution_count": null,
   "id": "77f27fdb-aa4d-4b18-9a1e-408fef53a739",
   "metadata": {},
   "outputs": [],
   "source": [
    "type(df_pandas)"
   ]
  },
  {
   "cell_type": "code",
   "execution_count": null,
   "id": "e5b13d21-1f52-4cc6-ac8f-b98af4cf9c97",
   "metadata": {},
   "outputs": [],
   "source": [
    "type(df_modin)"
   ]
  },
  {
   "cell_type": "markdown",
   "id": "dece825e-64c9-4682-9896-3e6ddfb28663",
   "metadata": {},
   "source": [
    "We select the rows whose group value is A or B. The operation took 2.14 seconds with Pandas."
   ]
  },
  {
   "cell_type": "code",
   "execution_count": null,
   "id": "f1c8ca69-967e-4dc0-8265-578ceed3d510",
   "metadata": {},
   "outputs": [],
   "source": [
    "%%time\n",
    "df_filtered = df_pandas[df_pandas.group.isin([\"A\",\"B\"])]"
   ]
  },
  {
   "cell_type": "code",
   "execution_count": null,
   "id": "e74df074-fc17-40ca-9d39-850cbb9f9609",
   "metadata": {},
   "outputs": [],
   "source": [
    "%%time\n",
    "df_filtered = df_modin[df_modin.group.isin([\"A\",\"B\"])]"
   ]
  },
  {
   "cell_type": "markdown",
   "id": "9f2fbf2e-5654-4492-968c-6a94e4cb48ac",
   "metadata": {},
   "source": [
    "We do not see any improvement. In fact, Pandas is slightly faster than Modin in this operation.\n",
    "\n",
    "**Note:** Modin used Ray or Dask engines. How to choose one of them is explained in the documentation.\n",
    "\n",
    "Another common task in data processing is combining multiple DataFrames. Let’s do an example by combining the filtered DataFrame and the original one with the concat function."
   ]
  },
  {
   "cell_type": "code",
   "execution_count": null,
   "id": "95502592-d99b-4241-83c5-c5e6bc28986e",
   "metadata": {},
   "outputs": [],
   "source": [
    "%%time\n",
    "df_combined = pdm.concat([df_pandas, df_filtered])"
   ]
  },
  {
   "cell_type": "code",
   "execution_count": null,
   "id": "378bf601-b614-4c89-99f6-c87cdfa92554",
   "metadata": {},
   "outputs": [],
   "source": [
    "%%time\n",
    "df_combined = pdm.concat([df_modin, df_filtered])"
   ]
  },
  {
   "cell_type": "code",
   "execution_count": null,
   "id": "43d37413-8dac-40e0-9e15-6331337bc865",
   "metadata": {},
   "outputs": [],
   "source": [
    "%%time\n",
    "df_pandas.groupby(\"group\")[\"column_1\"].mean()"
   ]
  },
  {
   "cell_type": "code",
   "execution_count": null,
   "id": "135c2a43-3bf8-442a-ba95-520114fe728a",
   "metadata": {},
   "outputs": [],
   "source": [
    "%%time\n",
    "df_modin.groupby(\"group\")[\"column_1\"].mean()"
   ]
  },
  {
   "cell_type": "markdown",
   "id": "518fd492-f43e-4a73-8cbd-4482030e5643",
   "metadata": {},
   "source": [
    "We have done some examples to compare the performance of Pandas and Modin on a 1.47 GB csv file. Modin outperforms Pandas in reading the file and combining DataFrames. On the other hand, Pandas performed better than Modin in filtering and aggregations with groupby.\n",
    "I think the performance difference between Modin and Pandas will get more noticeable as the data size increases. Another important point that will reveal the speed of Modin compared to Pandas is the number of clusters. I have done the examples on a single machine (i.e. my laptop). It might be a more accurate comparison to do these examples with a larger dataset on multiple clusters."
   ]
  }
 ],
 "metadata": {
  "kernelspec": {
   "display_name": "Python 3 (ipykernel)",
   "language": "python",
   "name": "python3"
  },
  "language_info": {
   "codemirror_mode": {
    "name": "ipython",
    "version": 3
   },
   "file_extension": ".py",
   "mimetype": "text/x-python",
   "name": "python",
   "nbconvert_exporter": "python",
   "pygments_lexer": "ipython3",
   "version": "3.8.1"
  }
 },
 "nbformat": 4,
 "nbformat_minor": 5
}
