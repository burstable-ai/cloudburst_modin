{
 "cells": [
  {
   "cell_type": "code",
   "execution_count": null,
   "id": "5c771d7b-4df2-40ef-a4f2-3e263288ffa1",
   "metadata": {},
   "outputs": [],
   "source": [
    "!pip install -r requirements.txt"
   ]
  },
  {
   "cell_type": "code",
   "execution_count": null,
   "id": "03ad6aab-73be-479f-8e5f-548def5961e3",
   "metadata": {},
   "outputs": [],
   "source": [
    "import numpy as np\n",
    "import pandas as pd\n",
    "import modin.pandas as pdm\n",
    "import ray\n",
    "ray.init(ignore_reinit_error=True)"
   ]
  },
  {
   "cell_type": "code",
   "execution_count": null,
   "id": "09bf86d7-d57e-4345-868c-97b563431896",
   "metadata": {},
   "outputs": [],
   "source": [
    "df = pd.DataFrame(np.random.randint(1,100,size=(10**7,50)))\n",
    "df = df.add_prefix(\"column_\")\n",
    "df[\"group\"] = [\"A\",\"B\",\"C\",\"D\"]*2500000\n",
    "df.shape"
   ]
  },
  {
   "cell_type": "code",
   "execution_count": null,
   "id": "c8a25875-5b64-43e4-a975-00c5e82793d8",
   "metadata": {},
   "outputs": [],
   "source": [
    "df.to_csv(\"large_dataset.csv\",index=False)"
   ]
  },
  {
   "cell_type": "code",
   "execution_count": null,
   "id": "362098fb-89bb-4f92-ba9f-4b3eda721dfa",
   "metadata": {},
   "outputs": [],
   "source": [
    "%%time\n",
    "df_pandas = pd.read_csv(\"large_dataset.csv\")"
   ]
  },
  {
   "cell_type": "code",
   "execution_count": null,
   "id": "d4af1021-c73e-4014-9124-f9b7d937ae1d",
   "metadata": {},
   "outputs": [],
   "source": [
    "%%time\n",
    "df_modin = pdm.read_csv(\"large_dataset.csv\")"
   ]
  },
  {
   "cell_type": "code",
   "execution_count": null,
   "id": "77f27fdb-aa4d-4b18-9a1e-408fef53a739",
   "metadata": {},
   "outputs": [],
   "source": [
    "type(df_pandas)"
   ]
  },
  {
   "cell_type": "code",
   "execution_count": null,
   "id": "e5b13d21-1f52-4cc6-ac8f-b98af4cf9c97",
   "metadata": {},
   "outputs": [],
   "source": [
    "type(df_modin)"
   ]
  }
 ],
 "metadata": {
  "kernelspec": {
   "display_name": "Python 3 (ipykernel)",
   "language": "python",
   "name": "python3"
  },
  "language_info": {
   "codemirror_mode": {
    "name": "ipython",
    "version": 3
   },
   "file_extension": ".py",
   "mimetype": "text/x-python",
   "name": "python",
   "nbconvert_exporter": "python",
   "pygments_lexer": "ipython3",
   "version": "3.8.1"
  }
 },
 "nbformat": 4,
 "nbformat_minor": 5
}
