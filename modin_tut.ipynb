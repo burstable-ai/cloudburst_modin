{
 "cells": [
  {
   "cell_type": "code",
   "execution_count": 1,
   "id": "5c771d7b-4df2-40ef-a4f2-3e263288ffa1",
   "metadata": {},
   "outputs": [
    {
     "name": "stdout",
     "output_type": "stream",
     "text": [
      "Defaulting to user installation because normal site-packages is not writeable\n",
      "Requirement already satisfied: modin[all] in /home/jupyter-eye0inc/.local/lib/python3.8/site-packages (from -r requirements.txt (line 1)) (0.13.2)\n",
      "Requirement already satisfied: pandas==1.4.0 in /home/jupyter-eye0inc/.local/lib/python3.8/site-packages (from modin[all]->-r requirements.txt (line 1)) (1.4.0)\n",
      "Requirement already satisfied: packaging in /opt/tljh/user/lib/python3.8/site-packages (from modin[all]->-r requirements.txt (line 1)) (21.0)\n",
      "Requirement already satisfied: numpy>=1.18.5 in /opt/tljh/user/lib/python3.8/site-packages (from modin[all]->-r requirements.txt (line 1)) (1.19.5)\n",
      "Requirement already satisfied: fsspec in /opt/tljh/user/lib/python3.8/site-packages (from modin[all]->-r requirements.txt (line 1)) (2021.10.0)\n",
      "Requirement already satisfied: cloudpickle in /opt/tljh/user/lib/python3.8/site-packages (from modin[all]->-r requirements.txt (line 1)) (2.0.0)\n",
      "Requirement already satisfied: dask>=2.22.0 in /home/jupyter-eye0inc/.local/lib/python3.8/site-packages (from modin[all]->-r requirements.txt (line 1)) (2022.2.1)\n",
      "Requirement already satisfied: modin-spreadsheet>=0.1.0 in /home/jupyter-eye0inc/.local/lib/python3.8/site-packages (from modin[all]->-r requirements.txt (line 1)) (0.1.2)\n",
      "Requirement already satisfied: pyarrow>=4.0.1 in /opt/tljh/user/lib/python3.8/site-packages (from modin[all]->-r requirements.txt (line 1)) (7.0.0)\n",
      "Requirement already satisfied: rpyc==4.1.5 in /home/jupyter-eye0inc/.local/lib/python3.8/site-packages (from modin[all]->-r requirements.txt (line 1)) (4.1.5)\n",
      "Requirement already satisfied: ray[default]>=1.4.0 in /home/jupyter-eye0inc/.local/lib/python3.8/site-packages (from modin[all]->-r requirements.txt (line 1)) (1.11.0)\n",
      "Requirement already satisfied: distributed>=2.22.0 in /home/jupyter-eye0inc/.local/lib/python3.8/site-packages (from modin[all]->-r requirements.txt (line 1)) (2022.2.1)\n",
      "Requirement already satisfied: boto3 in /home/jupyter-eye0inc/.local/lib/python3.8/site-packages (from modin[all]->-r requirements.txt (line 1)) (1.21.16)\n",
      "Requirement already satisfied: python-dateutil>=2.8.1 in /opt/tljh/user/lib/python3.8/site-packages (from pandas==1.4.0->modin[all]->-r requirements.txt (line 1)) (2.8.2)\n",
      "Requirement already satisfied: pytz>=2020.1 in /opt/tljh/user/lib/python3.8/site-packages (from pandas==1.4.0->modin[all]->-r requirements.txt (line 1)) (2021.3)\n",
      "Requirement already satisfied: plumbum in /home/jupyter-eye0inc/.local/lib/python3.8/site-packages (from rpyc==4.1.5->modin[all]->-r requirements.txt (line 1)) (1.7.2)\n",
      "Requirement already satisfied: toolz>=0.8.2 in /opt/tljh/user/lib/python3.8/site-packages (from dask>=2.22.0->modin[all]->-r requirements.txt (line 1)) (0.11.1)\n",
      "Requirement already satisfied: partd>=0.3.10 in /opt/tljh/user/lib/python3.8/site-packages (from dask>=2.22.0->modin[all]->-r requirements.txt (line 1)) (1.2.0)\n",
      "Requirement already satisfied: pyyaml>=5.3.1 in /opt/tljh/user/lib/python3.8/site-packages (from dask>=2.22.0->modin[all]->-r requirements.txt (line 1)) (5.4.1)\n",
      "Requirement already satisfied: tblib>=1.6.0 in /home/jupyter-eye0inc/.local/lib/python3.8/site-packages (from distributed>=2.22.0->modin[all]->-r requirements.txt (line 1)) (1.7.0)\n",
      "Requirement already satisfied: click>=6.6 in /opt/tljh/user/lib/python3.8/site-packages (from distributed>=2.22.0->modin[all]->-r requirements.txt (line 1)) (8.0.3)\n",
      "Requirement already satisfied: tornado>=6.0.3 in /opt/tljh/user/lib/python3.8/site-packages (from distributed>=2.22.0->modin[all]->-r requirements.txt (line 1)) (6.1)\n",
      "Requirement already satisfied: jinja2 in /opt/tljh/user/lib/python3.8/site-packages (from distributed>=2.22.0->modin[all]->-r requirements.txt (line 1)) (3.0.2)\n",
      "Requirement already satisfied: sortedcontainers!=2.0.0,!=2.0.1 in /home/jupyter-eye0inc/.local/lib/python3.8/site-packages (from distributed>=2.22.0->modin[all]->-r requirements.txt (line 1)) (2.4.0)\n",
      "Requirement already satisfied: psutil>=5.0 in /opt/tljh/user/lib/python3.8/site-packages (from distributed>=2.22.0->modin[all]->-r requirements.txt (line 1)) (5.8.0)\n",
      "Requirement already satisfied: setuptools in /opt/tljh/user/lib/python3.8/site-packages (from distributed>=2.22.0->modin[all]->-r requirements.txt (line 1)) (58.0.4)\n",
      "Requirement already satisfied: msgpack>=0.6.0 in /home/jupyter-eye0inc/.local/lib/python3.8/site-packages (from distributed>=2.22.0->modin[all]->-r requirements.txt (line 1)) (1.0.3)\n",
      "Requirement already satisfied: zict>=0.1.3 in /home/jupyter-eye0inc/.local/lib/python3.8/site-packages (from distributed>=2.22.0->modin[all]->-r requirements.txt (line 1)) (2.1.0)\n",
      "Requirement already satisfied: ipywidgets>=7.0.0 in /opt/tljh/user/lib/python3.8/site-packages (from modin-spreadsheet>=0.1.0->modin[all]->-r requirements.txt (line 1)) (7.6.5)\n",
      "Requirement already satisfied: notebook>=6.0.3 in /opt/tljh/user/lib/python3.8/site-packages (from modin-spreadsheet>=0.1.0->modin[all]->-r requirements.txt (line 1)) (6.4.4)\n",
      "Requirement already satisfied: jupyter>=1.0.0 in /home/jupyter-eye0inc/.local/lib/python3.8/site-packages (from modin-spreadsheet>=0.1.0->modin[all]->-r requirements.txt (line 1)) (1.0.0)\n",
      "Requirement already satisfied: ipykernel>=4.5.1 in /opt/tljh/user/lib/python3.8/site-packages (from ipywidgets>=7.0.0->modin-spreadsheet>=0.1.0->modin[all]->-r requirements.txt (line 1)) (6.4.1)\n",
      "Requirement already satisfied: widgetsnbextension~=3.5.0 in /opt/tljh/user/lib/python3.8/site-packages (from ipywidgets>=7.0.0->modin-spreadsheet>=0.1.0->modin[all]->-r requirements.txt (line 1)) (3.5.1)\n",
      "Requirement already satisfied: traitlets>=4.3.1 in /opt/tljh/user/lib/python3.8/site-packages (from ipywidgets>=7.0.0->modin-spreadsheet>=0.1.0->modin[all]->-r requirements.txt (line 1)) (5.1.0)\n",
      "Requirement already satisfied: nbformat>=4.2.0 in /opt/tljh/user/lib/python3.8/site-packages (from ipywidgets>=7.0.0->modin-spreadsheet>=0.1.0->modin[all]->-r requirements.txt (line 1)) (5.1.3)\n",
      "Requirement already satisfied: ipython-genutils~=0.2.0 in /opt/tljh/user/lib/python3.8/site-packages (from ipywidgets>=7.0.0->modin-spreadsheet>=0.1.0->modin[all]->-r requirements.txt (line 1)) (0.2.0)\n",
      "Requirement already satisfied: ipython>=4.0.0 in /opt/tljh/user/lib/python3.8/site-packages (from ipywidgets>=7.0.0->modin-spreadsheet>=0.1.0->modin[all]->-r requirements.txt (line 1)) (7.28.0)\n",
      "Requirement already satisfied: jupyterlab-widgets>=1.0.0 in /opt/tljh/user/lib/python3.8/site-packages (from ipywidgets>=7.0.0->modin-spreadsheet>=0.1.0->modin[all]->-r requirements.txt (line 1)) (1.0.2)\n",
      "Requirement already satisfied: jupyter-client<8.0 in /opt/tljh/user/lib/python3.8/site-packages (from ipykernel>=4.5.1->ipywidgets>=7.0.0->modin-spreadsheet>=0.1.0->modin[all]->-r requirements.txt (line 1)) (7.0.6)\n",
      "Requirement already satisfied: matplotlib-inline<0.2.0,>=0.1.0 in /opt/tljh/user/lib/python3.8/site-packages (from ipykernel>=4.5.1->ipywidgets>=7.0.0->modin-spreadsheet>=0.1.0->modin[all]->-r requirements.txt (line 1)) (0.1.3)\n",
      "Requirement already satisfied: debugpy<2.0,>=1.0.0 in /opt/tljh/user/lib/python3.8/site-packages (from ipykernel>=4.5.1->ipywidgets>=7.0.0->modin-spreadsheet>=0.1.0->modin[all]->-r requirements.txt (line 1)) (1.5.0)\n",
      "Requirement already satisfied: pygments in /opt/tljh/user/lib/python3.8/site-packages (from ipython>=4.0.0->ipywidgets>=7.0.0->modin-spreadsheet>=0.1.0->modin[all]->-r requirements.txt (line 1)) (2.10.0)\n",
      "Requirement already satisfied: decorator in /home/jupyter-eye0inc/.local/lib/python3.8/site-packages (from ipython>=4.0.0->ipywidgets>=7.0.0->modin-spreadsheet>=0.1.0->modin[all]->-r requirements.txt (line 1)) (4.4.2)\n",
      "Requirement already satisfied: pexpect>4.3 in /opt/tljh/user/lib/python3.8/site-packages (from ipython>=4.0.0->ipywidgets>=7.0.0->modin-spreadsheet>=0.1.0->modin[all]->-r requirements.txt (line 1)) (4.8.0)\n",
      "Requirement already satisfied: backcall in /opt/tljh/user/lib/python3.8/site-packages (from ipython>=4.0.0->ipywidgets>=7.0.0->modin-spreadsheet>=0.1.0->modin[all]->-r requirements.txt (line 1)) (0.2.0)\n",
      "Requirement already satisfied: pickleshare in /opt/tljh/user/lib/python3.8/site-packages (from ipython>=4.0.0->ipywidgets>=7.0.0->modin-spreadsheet>=0.1.0->modin[all]->-r requirements.txt (line 1)) (0.7.5)\n",
      "Requirement already satisfied: prompt-toolkit!=3.0.0,!=3.0.1,<3.1.0,>=2.0.0 in /opt/tljh/user/lib/python3.8/site-packages (from ipython>=4.0.0->ipywidgets>=7.0.0->modin-spreadsheet>=0.1.0->modin[all]->-r requirements.txt (line 1)) (3.0.20)\n",
      "Requirement already satisfied: jedi>=0.16 in /opt/tljh/user/lib/python3.8/site-packages (from ipython>=4.0.0->ipywidgets>=7.0.0->modin-spreadsheet>=0.1.0->modin[all]->-r requirements.txt (line 1)) (0.18.0)\n",
      "Requirement already satisfied: parso<0.9.0,>=0.8.0 in /opt/tljh/user/lib/python3.8/site-packages (from jedi>=0.16->ipython>=4.0.0->ipywidgets>=7.0.0->modin-spreadsheet>=0.1.0->modin[all]->-r requirements.txt (line 1)) (0.8.2)\n",
      "Requirement already satisfied: jupyter-console in /home/jupyter-eye0inc/.local/lib/python3.8/site-packages (from jupyter>=1.0.0->modin-spreadsheet>=0.1.0->modin[all]->-r requirements.txt (line 1)) (6.4.3)\n",
      "Requirement already satisfied: nbconvert in /opt/tljh/user/lib/python3.8/site-packages (from jupyter>=1.0.0->modin-spreadsheet>=0.1.0->modin[all]->-r requirements.txt (line 1)) (6.2.0)\n",
      "Requirement already satisfied: qtconsole in /home/jupyter-eye0inc/.local/lib/python3.8/site-packages (from jupyter>=1.0.0->modin-spreadsheet>=0.1.0->modin[all]->-r requirements.txt (line 1)) (5.2.2)\n",
      "Requirement already satisfied: pyzmq>=13 in /opt/tljh/user/lib/python3.8/site-packages (from jupyter-client<8.0->ipykernel>=4.5.1->ipywidgets>=7.0.0->modin-spreadsheet>=0.1.0->modin[all]->-r requirements.txt (line 1)) (22.3.0)\n",
      "Requirement already satisfied: nest-asyncio>=1.5 in /opt/tljh/user/lib/python3.8/site-packages (from jupyter-client<8.0->ipykernel>=4.5.1->ipywidgets>=7.0.0->modin-spreadsheet>=0.1.0->modin[all]->-r requirements.txt (line 1)) (1.5.1)\n",
      "Requirement already satisfied: entrypoints in /opt/tljh/user/lib/python3.8/site-packages (from jupyter-client<8.0->ipykernel>=4.5.1->ipywidgets>=7.0.0->modin-spreadsheet>=0.1.0->modin[all]->-r requirements.txt (line 1)) (0.3)\n",
      "Requirement already satisfied: jupyter-core>=4.6.0 in /opt/tljh/user/lib/python3.8/site-packages (from jupyter-client<8.0->ipykernel>=4.5.1->ipywidgets>=7.0.0->modin-spreadsheet>=0.1.0->modin[all]->-r requirements.txt (line 1)) (4.8.1)\n",
      "Requirement already satisfied: jsonschema!=2.5.0,>=2.4 in /opt/tljh/user/lib/python3.8/site-packages (from nbformat>=4.2.0->ipywidgets>=7.0.0->modin-spreadsheet>=0.1.0->modin[all]->-r requirements.txt (line 1)) (4.1.0)\n",
      "Requirement already satisfied: pyrsistent!=0.17.0,!=0.17.1,!=0.17.2,>=0.14.0 in /opt/tljh/user/lib/python3.8/site-packages (from jsonschema!=2.5.0,>=2.4->nbformat>=4.2.0->ipywidgets>=7.0.0->modin-spreadsheet>=0.1.0->modin[all]->-r requirements.txt (line 1)) (0.18.0)\n",
      "Requirement already satisfied: attrs>=17.4.0 in /opt/tljh/user/lib/python3.8/site-packages (from jsonschema!=2.5.0,>=2.4->nbformat>=4.2.0->ipywidgets>=7.0.0->modin-spreadsheet>=0.1.0->modin[all]->-r requirements.txt (line 1)) (21.2.0)\n",
      "Requirement already satisfied: terminado>=0.8.3 in /opt/tljh/user/lib/python3.8/site-packages (from notebook>=6.0.3->modin-spreadsheet>=0.1.0->modin[all]->-r requirements.txt (line 1)) (0.12.1)\n",
      "Requirement already satisfied: argon2-cffi in /opt/tljh/user/lib/python3.8/site-packages (from notebook>=6.0.3->modin-spreadsheet>=0.1.0->modin[all]->-r requirements.txt (line 1)) (21.1.0)\n",
      "Requirement already satisfied: prometheus-client in /opt/tljh/user/lib/python3.8/site-packages (from notebook>=6.0.3->modin-spreadsheet>=0.1.0->modin[all]->-r requirements.txt (line 1)) (0.11.0)\n",
      "Requirement already satisfied: Send2Trash>=1.5.0 in /opt/tljh/user/lib/python3.8/site-packages (from notebook>=6.0.3->modin-spreadsheet>=0.1.0->modin[all]->-r requirements.txt (line 1)) (1.8.0)\n",
      "Requirement already satisfied: pyparsing>=2.0.2 in /opt/tljh/user/lib/python3.8/site-packages (from packaging->modin[all]->-r requirements.txt (line 1)) (2.4.7)\n",
      "Requirement already satisfied: locket in /opt/tljh/user/lib/python3.8/site-packages (from partd>=0.3.10->dask>=2.22.0->modin[all]->-r requirements.txt (line 1)) (0.2.1)\n",
      "Requirement already satisfied: ptyprocess>=0.5 in /opt/tljh/user/lib/python3.8/site-packages (from pexpect>4.3->ipython>=4.0.0->ipywidgets>=7.0.0->modin-spreadsheet>=0.1.0->modin[all]->-r requirements.txt (line 1)) (0.7.0)\n",
      "Requirement already satisfied: wcwidth in /opt/tljh/user/lib/python3.8/site-packages (from prompt-toolkit!=3.0.0,!=3.0.1,<3.1.0,>=2.0.0->ipython>=4.0.0->ipywidgets>=7.0.0->modin-spreadsheet>=0.1.0->modin[all]->-r requirements.txt (line 1)) (0.2.5)\n",
      "Requirement already satisfied: six>=1.5 in /opt/tljh/user/lib/python3.8/site-packages (from python-dateutil>=2.8.1->pandas==1.4.0->modin[all]->-r requirements.txt (line 1)) (1.15.0)\n",
      "Requirement already satisfied: grpcio<=1.43.0,>=1.28.1 in /home/jupyter-eye0inc/.local/lib/python3.8/site-packages (from ray[default]>=1.4.0->modin[all]->-r requirements.txt (line 1)) (1.43.0)\n",
      "Requirement already satisfied: protobuf>=3.15.3 in /opt/tljh/user/lib/python3.8/site-packages (from ray[default]>=1.4.0->modin[all]->-r requirements.txt (line 1)) (3.18.1)\n",
      "Requirement already satisfied: redis>=3.5.0 in /home/jupyter-eye0inc/.local/lib/python3.8/site-packages (from ray[default]>=1.4.0->modin[all]->-r requirements.txt (line 1)) (4.1.4)\n",
      "Requirement already satisfied: filelock in /opt/tljh/user/lib/python3.8/site-packages (from ray[default]>=1.4.0->modin[all]->-r requirements.txt (line 1)) (3.4.2)\n",
      "Requirement already satisfied: aiohttp>=3.7 in /opt/tljh/user/lib/python3.8/site-packages (from ray[default]>=1.4.0->modin[all]->-r requirements.txt (line 1)) (3.8.1)\n",
      "Requirement already satisfied: aiosignal in /opt/tljh/user/lib/python3.8/site-packages (from ray[default]>=1.4.0->modin[all]->-r requirements.txt (line 1)) (1.2.0)\n",
      "Requirement already satisfied: py-spy>=0.2.0 in /home/jupyter-eye0inc/.local/lib/python3.8/site-packages (from ray[default]>=1.4.0->modin[all]->-r requirements.txt (line 1)) (0.3.11)\n",
      "Requirement already satisfied: requests in /opt/tljh/user/lib/python3.8/site-packages (from ray[default]>=1.4.0->modin[all]->-r requirements.txt (line 1)) (2.27.1)\n",
      "Requirement already satisfied: frozenlist in /opt/tljh/user/lib/python3.8/site-packages (from ray[default]>=1.4.0->modin[all]->-r requirements.txt (line 1)) (1.3.0)\n",
      "Requirement already satisfied: opencensus in /home/jupyter-eye0inc/.local/lib/python3.8/site-packages (from ray[default]>=1.4.0->modin[all]->-r requirements.txt (line 1)) (0.8.0)\n",
      "Requirement already satisfied: gpustat>=1.0.0b1 in /home/jupyter-eye0inc/.local/lib/python3.8/site-packages (from ray[default]>=1.4.0->modin[all]->-r requirements.txt (line 1)) (1.0.0b1)\n",
      "Requirement already satisfied: colorful in /home/jupyter-eye0inc/.local/lib/python3.8/site-packages (from ray[default]>=1.4.0->modin[all]->-r requirements.txt (line 1)) (0.5.4)\n",
      "Requirement already satisfied: aioredis<2 in /home/jupyter-eye0inc/.local/lib/python3.8/site-packages (from ray[default]>=1.4.0->modin[all]->-r requirements.txt (line 1)) (1.3.1)\n",
      "Requirement already satisfied: smart-open in /opt/tljh/user/lib/python3.8/site-packages (from ray[default]>=1.4.0->modin[all]->-r requirements.txt (line 1)) (5.2.1)\n",
      "Requirement already satisfied: aiohttp-cors in /home/jupyter-eye0inc/.local/lib/python3.8/site-packages (from ray[default]>=1.4.0->modin[all]->-r requirements.txt (line 1)) (0.7.0)\n",
      "Requirement already satisfied: async-timeout<5.0,>=4.0.0a3 in /opt/tljh/user/lib/python3.8/site-packages (from aiohttp>=3.7->ray[default]>=1.4.0->modin[all]->-r requirements.txt (line 1)) (4.0.2)\n",
      "Requirement already satisfied: multidict<7.0,>=4.5 in /opt/tljh/user/lib/python3.8/site-packages (from aiohttp>=3.7->ray[default]>=1.4.0->modin[all]->-r requirements.txt (line 1)) (6.0.2)\n",
      "Requirement already satisfied: yarl<2.0,>=1.0 in /opt/tljh/user/lib/python3.8/site-packages (from aiohttp>=3.7->ray[default]>=1.4.0->modin[all]->-r requirements.txt (line 1)) (1.7.2)\n",
      "Requirement already satisfied: charset-normalizer<3.0,>=2.0 in /opt/tljh/user/lib/python3.8/site-packages (from aiohttp>=3.7->ray[default]>=1.4.0->modin[all]->-r requirements.txt (line 1)) (2.0.4)\n",
      "Requirement already satisfied: hiredis in /home/jupyter-eye0inc/.local/lib/python3.8/site-packages (from aioredis<2->ray[default]>=1.4.0->modin[all]->-r requirements.txt (line 1)) (2.0.0)\n",
      "Requirement already satisfied: blessed>=1.17.1 in /home/jupyter-eye0inc/.local/lib/python3.8/site-packages (from gpustat>=1.0.0b1->ray[default]>=1.4.0->modin[all]->-r requirements.txt (line 1)) (1.19.1)\n",
      "Requirement already satisfied: nvidia-ml-py3>=7.352.0 in /home/jupyter-eye0inc/.local/lib/python3.8/site-packages (from gpustat>=1.0.0b1->ray[default]>=1.4.0->modin[all]->-r requirements.txt (line 1)) (7.352.0)\n",
      "Requirement already satisfied: deprecated>=1.2.3 in /home/jupyter-eye0inc/.local/lib/python3.8/site-packages (from redis>=3.5.0->ray[default]>=1.4.0->modin[all]->-r requirements.txt (line 1)) (1.2.13)\n",
      "Requirement already satisfied: wrapt<2,>=1.10 in /opt/tljh/user/lib/python3.8/site-packages (from deprecated>=1.2.3->redis>=3.5.0->ray[default]>=1.4.0->modin[all]->-r requirements.txt (line 1)) (1.12.1)\n",
      "Requirement already satisfied: idna>=2.0 in /opt/tljh/user/lib/python3.8/site-packages (from yarl<2.0,>=1.0->aiohttp>=3.7->ray[default]>=1.4.0->modin[all]->-r requirements.txt (line 1)) (3.3)\n",
      "Requirement already satisfied: heapdict in /home/jupyter-eye0inc/.local/lib/python3.8/site-packages (from zict>=0.1.3->distributed>=2.22.0->modin[all]->-r requirements.txt (line 1)) (1.0.1)\n",
      "Requirement already satisfied: cffi>=1.0.0 in /opt/tljh/user/lib/python3.8/site-packages (from argon2-cffi->notebook>=6.0.3->modin-spreadsheet>=0.1.0->modin[all]->-r requirements.txt (line 1)) (1.14.0)\n",
      "Requirement already satisfied: pycparser in /opt/tljh/user/lib/python3.8/site-packages (from cffi>=1.0.0->argon2-cffi->notebook>=6.0.3->modin-spreadsheet>=0.1.0->modin[all]->-r requirements.txt (line 1)) (2.21)\n",
      "Requirement already satisfied: botocore<1.25.0,>=1.24.16 in /home/jupyter-eye0inc/.local/lib/python3.8/site-packages (from boto3->modin[all]->-r requirements.txt (line 1)) (1.24.17)\n",
      "Requirement already satisfied: jmespath<1.0.0,>=0.7.1 in /home/jupyter-eye0inc/.local/lib/python3.8/site-packages (from boto3->modin[all]->-r requirements.txt (line 1)) (0.10.0)\n",
      "Requirement already satisfied: s3transfer<0.6.0,>=0.5.0 in /home/jupyter-eye0inc/.local/lib/python3.8/site-packages (from boto3->modin[all]->-r requirements.txt (line 1)) (0.5.2)\n",
      "Requirement already satisfied: urllib3<1.27,>=1.25.4 in /opt/tljh/user/lib/python3.8/site-packages (from botocore<1.25.0,>=1.24.16->boto3->modin[all]->-r requirements.txt (line 1)) (1.26.7)\n",
      "Requirement already satisfied: MarkupSafe>=2.0 in /opt/tljh/user/lib/python3.8/site-packages (from jinja2->distributed>=2.22.0->modin[all]->-r requirements.txt (line 1)) (2.0.1)\n",
      "Requirement already satisfied: jupyterlab-pygments in /opt/tljh/user/lib/python3.8/site-packages (from nbconvert->jupyter>=1.0.0->modin-spreadsheet>=0.1.0->modin[all]->-r requirements.txt (line 1)) (0.1.2)\n",
      "Requirement already satisfied: bleach in /opt/tljh/user/lib/python3.8/site-packages (from nbconvert->jupyter>=1.0.0->modin-spreadsheet>=0.1.0->modin[all]->-r requirements.txt (line 1)) (4.1.0)\n",
      "Requirement already satisfied: testpath in /opt/tljh/user/lib/python3.8/site-packages (from nbconvert->jupyter>=1.0.0->modin-spreadsheet>=0.1.0->modin[all]->-r requirements.txt (line 1)) (0.5.0)\n",
      "Requirement already satisfied: defusedxml in /opt/tljh/user/lib/python3.8/site-packages (from nbconvert->jupyter>=1.0.0->modin-spreadsheet>=0.1.0->modin[all]->-r requirements.txt (line 1)) (0.7.1)\n",
      "Requirement already satisfied: nbclient<0.6.0,>=0.5.0 in /opt/tljh/user/lib/python3.8/site-packages (from nbconvert->jupyter>=1.0.0->modin-spreadsheet>=0.1.0->modin[all]->-r requirements.txt (line 1)) (0.5.4)\n",
      "Requirement already satisfied: mistune<2,>=0.8.1 in /opt/tljh/user/lib/python3.8/site-packages (from nbconvert->jupyter>=1.0.0->modin-spreadsheet>=0.1.0->modin[all]->-r requirements.txt (line 1)) (0.8.4)\n",
      "Requirement already satisfied: pandocfilters>=1.4.1 in /opt/tljh/user/lib/python3.8/site-packages (from nbconvert->jupyter>=1.0.0->modin-spreadsheet>=0.1.0->modin[all]->-r requirements.txt (line 1)) (1.5.0)\n",
      "Requirement already satisfied: webencodings in /opt/tljh/user/lib/python3.8/site-packages (from bleach->nbconvert->jupyter>=1.0.0->modin-spreadsheet>=0.1.0->modin[all]->-r requirements.txt (line 1)) (0.5.1)\n",
      "Requirement already satisfied: opencensus-context==0.1.2 in /home/jupyter-eye0inc/.local/lib/python3.8/site-packages (from opencensus->ray[default]>=1.4.0->modin[all]->-r requirements.txt (line 1)) (0.1.2)\n",
      "Requirement already satisfied: google-api-core<3.0.0,>=1.0.0 in /home/jupyter-eye0inc/.local/lib/python3.8/site-packages (from opencensus->ray[default]>=1.4.0->modin[all]->-r requirements.txt (line 1)) (2.7.1)\n",
      "Requirement already satisfied: googleapis-common-protos<2.0dev,>=1.52.0 in /home/jupyter-eye0inc/.local/lib/python3.8/site-packages (from google-api-core<3.0.0,>=1.0.0->opencensus->ray[default]>=1.4.0->modin[all]->-r requirements.txt (line 1)) (1.55.0)\n",
      "Requirement already satisfied: google-auth<3.0dev,>=1.25.0 in /opt/tljh/user/lib/python3.8/site-packages (from google-api-core<3.0.0,>=1.0.0->opencensus->ray[default]>=1.4.0->modin[all]->-r requirements.txt (line 1)) (1.35.0)\n",
      "Requirement already satisfied: rsa<5,>=3.1.4 in /opt/tljh/user/lib/python3.8/site-packages (from google-auth<3.0dev,>=1.25.0->google-api-core<3.0.0,>=1.0.0->opencensus->ray[default]>=1.4.0->modin[all]->-r requirements.txt (line 1)) (4.7.2)\n",
      "Requirement already satisfied: pyasn1-modules>=0.2.1 in /opt/tljh/user/lib/python3.8/site-packages (from google-auth<3.0dev,>=1.25.0->google-api-core<3.0.0,>=1.0.0->opencensus->ray[default]>=1.4.0->modin[all]->-r requirements.txt (line 1)) (0.2.8)\n",
      "Requirement already satisfied: cachetools<5.0,>=2.0.0 in /opt/tljh/user/lib/python3.8/site-packages (from google-auth<3.0dev,>=1.25.0->google-api-core<3.0.0,>=1.0.0->opencensus->ray[default]>=1.4.0->modin[all]->-r requirements.txt (line 1)) (4.2.4)\n",
      "Requirement already satisfied: pyasn1<0.5.0,>=0.4.6 in /opt/tljh/user/lib/python3.8/site-packages (from pyasn1-modules>=0.2.1->google-auth<3.0dev,>=1.25.0->google-api-core<3.0.0,>=1.0.0->opencensus->ray[default]>=1.4.0->modin[all]->-r requirements.txt (line 1)) (0.4.8)\n",
      "Requirement already satisfied: certifi>=2017.4.17 in /opt/tljh/user/lib/python3.8/site-packages (from requests->ray[default]>=1.4.0->modin[all]->-r requirements.txt (line 1)) (2021.10.8)\n",
      "Requirement already satisfied: qtpy in /home/jupyter-eye0inc/.local/lib/python3.8/site-packages (from qtconsole->jupyter>=1.0.0->modin-spreadsheet>=0.1.0->modin[all]->-r requirements.txt (line 1)) (2.0.1)\n"
     ]
    }
   ],
   "source": [
    "!pip install -r requirements.txt"
   ]
  },
  {
   "cell_type": "code",
   "execution_count": 2,
   "id": "8d316d9a-0a24-49f4-8051-1798a99e2e14",
   "metadata": {},
   "outputs": [
    {
     "data": {
      "text/plain": [
       "(10000000, 51)"
      ]
     },
     "execution_count": 2,
     "metadata": {},
     "output_type": "execute_result"
    }
   ],
   "source": [
    "import numpy as np\n",
    "import pandas as pd\n",
    "df = pd.DataFrame(np.random.randint(1,100,size=(10**7,50)))\n",
    "df = df.add_prefix(\"column_\")\n",
    "df[\"group\"] = [\"A\",\"B\",\"C\",\"D\"]*2500000\n",
    "df.shape"
   ]
  },
  {
   "cell_type": "code",
   "execution_count": null,
   "id": "c8a25875-5b64-43e4-a975-00c5e82793d8",
   "metadata": {},
   "outputs": [],
   "source": [
    "df.to_csv(\"large_dataset.csv\",index=False)"
   ]
  },
  {
   "cell_type": "code",
   "execution_count": 14,
   "id": "546b5bd3-60d8-420f-8aac-1ac2a9a8f69b",
   "metadata": {},
   "outputs": [],
   "source": [
    "import pandas as pd\n"
   ]
  },
  {
   "cell_type": "code",
   "execution_count": null,
   "id": "362098fb-89bb-4f92-ba9f-4b3eda721dfa",
   "metadata": {},
   "outputs": [],
   "source": [
    "%%time\n",
    "df_pandas = pd.read_csv(\"large_dataset.csv\")"
   ]
  },
  {
   "cell_type": "code",
   "execution_count": 4,
   "id": "ba38402e-f952-44f1-8bb2-a1eee5d7ba6b",
   "metadata": {},
   "outputs": [
    {
     "name": "stderr",
     "output_type": "stream",
     "text": [
      "2022-03-10 20:16:55,349\tINFO services.py:1412 -- View the Ray dashboard at \u001b[1m\u001b[32mhttp://127.0.0.1:8265\u001b[39m\u001b[22m\n"
     ]
    },
    {
     "data": {
      "text/plain": [
       "{'node_ip_address': '172.31.36.23',\n",
       " 'raylet_ip_address': '172.31.36.23',\n",
       " 'redis_address': None,\n",
       " 'object_store_address': '/tmp/ray/session_2022-03-10_20-16-52_845967_461061/sockets/plasma_store',\n",
       " 'raylet_socket_name': '/tmp/ray/session_2022-03-10_20-16-52_845967_461061/sockets/raylet',\n",
       " 'webui_url': '127.0.0.1:8265',\n",
       " 'session_dir': '/tmp/ray/session_2022-03-10_20-16-52_845967_461061',\n",
       " 'metrics_export_port': 59192,\n",
       " 'gcs_address': '172.31.36.23:41703',\n",
       " 'address': '172.31.36.23:41703',\n",
       " 'node_id': '5da03edfb4820ca305c1f771d59477d9f750effd7d13b66b25f9baa7'}"
      ]
     },
     "execution_count": 4,
     "metadata": {},
     "output_type": "execute_result"
    }
   ],
   "source": [
    "import modin.pandas as pd\n",
    "import ray\n",
    "ray.init(ignore_reinit_error=True)"
   ]
  },
  {
   "cell_type": "code",
   "execution_count": 6,
   "id": "d4af1021-c73e-4014-9124-f9b7d937ae1d",
   "metadata": {},
   "outputs": [
    {
     "name": "stdout",
     "output_type": "stream",
     "text": [
      "CPU times: user 673 ms, sys: 891 ms, total: 1.56 s\n",
      "Wall time: 11.3 s\n"
     ]
    }
   ],
   "source": [
    "%%time\n",
    "df_modin = pd.read_csv(\"large_dataset.csv\")"
   ]
  },
  {
   "cell_type": "code",
   "execution_count": 12,
   "id": "77f27fdb-aa4d-4b18-9a1e-408fef53a739",
   "metadata": {},
   "outputs": [
    {
     "data": {
      "text/plain": [
       "modin.pandas.dataframe.DataFrame"
      ]
     },
     "execution_count": 12,
     "metadata": {},
     "output_type": "execute_result"
    }
   ],
   "source": [
    "type(df_pandas)"
   ]
  },
  {
   "cell_type": "code",
   "execution_count": 13,
   "id": "e5b13d21-1f52-4cc6-ac8f-b98af4cf9c97",
   "metadata": {},
   "outputs": [
    {
     "data": {
      "text/plain": [
       "modin.pandas.dataframe.DataFrame"
      ]
     },
     "execution_count": 13,
     "metadata": {},
     "output_type": "execute_result"
    }
   ],
   "source": [
    "type(df_modin)"
   ]
  },
  {
   "cell_type": "code",
   "execution_count": null,
   "id": "9e015194-f13d-45a5-8291-0f68ebf080a3",
   "metadata": {},
   "outputs": [],
   "source": []
  }
 ],
 "metadata": {
  "kernelspec": {
   "display_name": "Python 3 (ipykernel)",
   "language": "python",
   "name": "python3"
  },
  "language_info": {
   "codemirror_mode": {
    "name": "ipython",
    "version": 3
   },
   "file_extension": ".py",
   "mimetype": "text/x-python",
   "name": "python",
   "nbconvert_exporter": "python",
   "pygments_lexer": "ipython3",
   "version": "3.8.1"
  }
 },
 "nbformat": 4,
 "nbformat_minor": 5
}
